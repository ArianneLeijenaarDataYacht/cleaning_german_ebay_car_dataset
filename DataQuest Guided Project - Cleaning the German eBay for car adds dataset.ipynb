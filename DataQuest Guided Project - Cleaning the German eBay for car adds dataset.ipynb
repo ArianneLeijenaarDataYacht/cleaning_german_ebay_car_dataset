{
 "cells": [
  {
   "cell_type": "markdown",
   "metadata": {},
   "source": [
    "## Cleaning dataset of used cars from eBay Kleinanzeigen"
   ]
  },
  {
   "cell_type": "code",
   "execution_count": null,
   "metadata": {},
   "outputs": [],
   "source": [
    "# Importing the file into a variable called 'autos':\n",
    "\n",
    "import numpy as np\n",
    "import pandas as pd\n",
    "autos = pd.read_csv ('autos.csv', encoding = \"Windows-1252\")"
   ]
  },
  {
   "cell_type": "code",
   "execution_count": null,
   "metadata": {},
   "outputs": [],
   "source": [
    "# Exploring the data by printing the first and last five rows:\n",
    "\n",
    "print (autos.head())\n",
    "print (autos.tail())"
   ]
  },
  {
   "cell_type": "code",
   "execution_count": null,
   "metadata": {},
   "outputs": [],
   "source": [
    "In this dataset:\n",
    "\n",
    "The columns display information about:\n",
    "    - dateCrawled = The date the add was placed\n",
    "    - name = The Name of the car\n",
    "    - seller = Whether the seller is private or a dealer\n",
    "    - offerType = Whether this car is requested or offered\n",
    "    - price = The price of the car in the listing\n",
    "    - abtest = Whether the listing is included in an A/B test\n",
    "    - vehicleType = The viehicle Type\n",
    "    - yearOfRegistration = The year in which the car was first registered\n",
    "    - gearbox = The transmission type\n",
    "    - powerPS = The power of the car in PS\n",
    "    - model = The car model name\n",
    "    - kilometer = How many kilometers the car has driven\n",
    "    - monthPfRegistration = The month in which the car was first    registered\n",
    "    - fuelType = What type of fuel the care uses\n",
    "    - brand = The brand of the csr\n",
    "    - notRepairedDamage = IF the car has a damage which has not yet been repaired\n",
    "    - dateCreated = The date on which the eBay listing was created\n",
    "    - nrOfPictures = The number of pictures in the ad\n",
    "    - postalcode = The postal code for the location of the vehicle\n",
    "    - lastSeenOnline = When the crawler saw this ad last online\n",
    "\n",
    "The rows display a number and the specific information of the column, whereas the number 0 is the first data entry set (so the headlines do not contain a number).\n",
    "\n",
    "- The dataset contains 20 columns, most of which are strings.\n",
    "- Some columns have null values, but none have more than 20% null values.\n",
    "- The column names use camelcase instead of Python's preferred snakecase, which means we can't just replace spaces with underscores."
   ]
  },
  {
   "cell_type": "code",
   "execution_count": null,
   "metadata": {},
   "outputs": [],
   "source": [
    "# Print an array of the existing column names\n",
    "print (autos.columns)"
   ]
  },
  {
   "cell_type": "code",
   "execution_count": null,
   "metadata": {},
   "outputs": [],
   "source": [
    "# Edditing some of the column names\n",
    "autos.rename(columns = {\"yearOfRegsitration\":\"registration_year\"}, inplace = True)\n",
    "autos.rename(columns = {\"monthOfRegistration\": \"registration_month\"}, inplace = True)\n",
    "autos.rename (columns = {\"notRepairedDamage\" : \"unrepaired_damage\"}, inplace = True)\n",
    "autos.rename (columns = {\"dateCreated\" : \"ad_created\"}, inplace = True)"
   ]
  },
  {
   "cell_type": "code",
   "execution_count": null,
   "metadata": {},
   "outputs": [],
   "source": [
    "# Edit the rest of the column names from CamelCase to Snakecase\n",
    "autos.rename (columns = {\"dateCrawled\": \"date_crawled\"}, inplace = True)\n",
    "autos.rename (columns = {\"offerType\" : \"offer_type\"}, inplace = True)\n",
    "autos.rename (columns = {\"abtest\": \"ab_test\"}, inplace = True)\n",
    "autos.rename (columns = {\"vehicleType\": \"vehicle_type\"}, inplace = True)\n",
    "autos.rename (columns = {\"gearbox\" : \"gear_box\"}, inplace = True)\n",
    "autos.rename (columns = {\"powerPS\" : \"power_ps\"}, inplace = True)\n",
    "autos.rename (columns = {\"fuelType\" : \"fule_type\"}, inplace = True)\n",
    "autos.rename (columns = {\"nrOfPictures\" : \"nr_of_pictures\"}, inplace = True)\n",
    "autos.rename (columns = {\"postalcode\": \"postal_code\"}, inplace = True)\n",
    "autos.rename (columns = {\"lastSeenOnline\": \"last_seen_online\"}, inplace = True)"
   ]
  },
  {
   "cell_type": "code",
   "execution_count": null,
   "metadata": {},
   "outputs": [],
   "source": [
    "# Look at the current state of the auros dataframe\n",
    "print (autos.head() )"
   ]
  },
  {
   "cell_type": "markdown",
   "metadata": {},
   "source": [
    "In the Python language, it is more commen to use snakecase words instead of camelcase ones. Therefore, the names of the columns have been adjusted to snakecase words. "
   ]
  },
  {
   "cell_type": "code",
   "execution_count": null,
   "metadata": {},
   "outputs": [],
   "source": [
    "# Use the describe function to look at the descriptive statistics for all columns\n",
    "print (autos.describe ())"
   ]
  },
  {
   "cell_type": "markdown",
   "metadata": {},
   "source": [
    "From the descriptive data, we can conclude that:\n",
    "- The column nr_of_pictures can be dropped, since it mostly contains a 0 value\n",
    "- The column ad_created can be dropped, because it contains the same information as the column date_crawled, yet without the time data.\n",
    "- Some data entries or posts have columns without information: those need to be checked and deleted.\n",
    "- The columns price and odometer are stored as text data, and need to be cleaned and converted to numeric data."
   ]
  },
  {
   "cell_type": "code",
   "execution_count": null,
   "metadata": {},
   "outputs": [],
   "source": [
    "# Remove non-numeric characters from the price and odometer column values\n",
    "\n",
    "# For the price column\n",
    "autos[\"price\"] = autos[\"price\"].str.replace (\"$\", \"\")\n",
    "autos[\"price\"] = autos[\"price\"].str.replace (\",\", \".\")\n",
    "\n",
    "# For the odometer column values\n",
    "autos[\"odometer\"] = autos[\"odometer\"].str.replace (\"km\", \"\")\n",
    "autos[\"odometer\"] = autos[\"odometer\"].str.replace (\",\", \".\")"
   ]
  },
  {
   "cell_type": "code",
   "execution_count": null,
   "metadata": {},
   "outputs": [],
   "source": [
    "# Rename the column \"odometer\" to \"odometer_km\" \n",
    "autos.rename (columns = {\"odometer\" : \"odometer_km\"}, inplace = True)"
   ]
  },
  {
   "cell_type": "code",
   "execution_count": null,
   "metadata": {},
   "outputs": [],
   "source": [
    "# Explore the number of unique values in the odometer_km data\n",
    "autos[\"odometer_km\"].unique().shape"
   ]
  },
  {
   "cell_type": "code",
   "execution_count": null,
   "metadata": {},
   "outputs": [],
   "source": [
    "# Explore the count, mininimum, maximum, median, mean, etc. in the odometer_km data\n",
    "autos[\"odometer_km\"].describe()"
   ]
  },
  {
   "cell_type": "code",
   "execution_count": null,
   "metadata": {},
   "outputs": [],
   "source": [
    "# Explore the number of data entries for each unique value\n",
    "autos[\"odometer_km\"].value_counts()"
   ]
  },
  {
   "cell_type": "code",
   "execution_count": null,
   "metadata": {},
   "outputs": [],
   "source": [
    "# Explore the number of unique values in the odometer_km data\n",
    "autos[\"price\"].unique().shape"
   ]
  },
  {
   "cell_type": "code",
   "execution_count": null,
   "metadata": {},
   "outputs": [],
   "source": [
    "# Explore the count, minimum, maximum, median, mean etc. in the price data\n",
    "autos[\"price\"].describe()"
   ]
  },
  {
   "cell_type": "code",
   "execution_count": null,
   "metadata": {},
   "outputs": [],
   "source": [
    "# Explore the number of data entries for each unique value in the price data\n",
    "autos[\"price\"].value_counts ()"
   ]
  },
  {
   "cell_type": "code",
   "execution_count": null,
   "metadata": {},
   "outputs": [],
   "source": [
    "# Checking whether the price values of 0 correspond to offer_type column value \"fragen\"\n",
    "\n",
    "# Check how many cars are offered and how many are asked for\n",
    "autos[\"offer_type\"].value_counts()"
   ]
  },
  {
   "cell_type": "markdown",
   "metadata": {},
   "source": [
    "Since there is only one car that is being asked for, and the rest of the adds are all cars that are offered, there is no way that the price value of 0 corresponds to the asked cars, since the number of adds with a price value of 0 are 1421. \n",
    "Therefore, the data entries with a price value of zero need to be removed from the dataset."
   ]
  },
  {
   "cell_type": "code",
   "execution_count": null,
   "metadata": {},
   "outputs": [],
   "source": [
    "# Filtering the data entries with a price value of 0 out of the data list\n",
    "# and replacing it with the text \"No Entry\"\n",
    "\n",
    "autos.loc [0, \"price\"] = [\"No Entry\"]"
   ]
  },
  {
   "cell_type": "code",
   "execution_count": null,
   "metadata": {},
   "outputs": [],
   "source": [
    "# Check whether the 0 values in the price column have been replaced\n",
    "\n",
    "autos[\"price\"].head ()\n",
    "autos[\"price\"].tail ()"
   ]
  },
  {
   "cell_type": "code",
   "execution_count": null,
   "metadata": {},
   "outputs": [],
   "source": [
    "# View the minimum, maximum, average and mean for the registration_year column\n",
    "\n",
    "autos[\"registration_year\"] .describe ()"
   ]
  },
  {
   "cell_type": "code",
   "execution_count": null,
   "metadata": {},
   "outputs": [],
   "source": [
    "# Order the registration_year data in ascending order\n",
    "\n",
    "sorted_regyears = autos[\"registration_year\"].sort_values(ascending = True)\n",
    "print (sorted_regyears)"
   ]
  },
  {
   "cell_type": "markdown",
   "metadata": {},
   "source": [
    "There are some years registered in the registration_year data that cannot be true. Therefore, these years or data point have to be substituted by the phrase \"No Entry\". "
   ]
  },
  {
   "cell_type": "code",
   "execution_count": null,
   "metadata": {},
   "outputs": [],
   "source": [
    "# Substitute the outliers 1000, 1001, 1111, 1500, 1800, 2800, 4100, 4500, 4800, 5000,\n",
    "# 5911, 6200, 8888, 9000, 9996 and 9999 with the string \"No Entry\"\n",
    "\n",
    "autos.loc[autos[\"registration_year\"] == 1000, \"registration_year\"] = np.nan\n",
    "autos.loc[autos[\"registration_year\"] == 1001, \"registration_year\"] = np.nan\n",
    "autos.loc[autos[\"registration_year\"] == 1111, \"registration_year\"] = np.nan\n",
    "autos.loc[autos[\"registration_year\"] == 1500, \"registration_year\"] = np.nan\n",
    "autos.loc[autos[\"registration_year\"] == 1800, \"registration_year\"] = np.nan\n",
    "autos.loc[autos[\"registration_year\"] == 2800, \"registration_year\"] = np.nan\n",
    "autos.loc[autos[\"registration_year\"] == 5000, \"registration_year\"] = np.nan\n",
    "autos.loc[autos[\"registration_year\"] == 5911, \"registration_year\"] = np.nan\n",
    "autos.loc[autos[\"registration_year\"] == 6200, \"registration_year\"] = np.nan\n",
    "autos.loc[autos[\"registration_year\"] == 8888, \"registration_year\"] = np.nan\n",
    "autos.loc[autos[\"registration_year\"] == 9000, \"registration_year\"] = np.nan\n",
    "autos.loc[autos[\"registration_year\"] == 9996, \"registration_year\"] = np.nan\n",
    "autos.loc[autos[\"registration_year\"] == 9999, \"registration_year\"] = np.nan\n",
    "autos.loc[autos[\"registration_year\"] == 4100, \"registration_year\"] = np.nan\n",
    "autos.loc[autos[\"registration_year\"] == 4800, \"registration_year\"] = np.nan\n",
    "autos.loc[autos[\"registration_year\"] == 4500, \"registration_year\"] = np.nan"
   ]
  },
  {
   "cell_type": "code",
   "execution_count": null,
   "metadata": {},
   "outputs": [],
   "source": [
    "# Check whether the outliers are removed from the data and calculate the distribution of the registration_year column values\n",
    "autos[\"registration_year\"].value_counts(normalize = True)"
   ]
  },
  {
   "cell_type": "code",
   "execution_count": null,
   "metadata": {},
   "outputs": [],
   "source": [
    "# View the minimum, maximum, average and mean for the registration_year column\n",
    "autos[\"registration_month\"].describe ()"
   ]
  },
  {
   "cell_type": "code",
   "execution_count": null,
   "metadata": {},
   "outputs": [],
   "source": [
    "# See whether there are outliers in the registration_year data\n",
    "autos[\"registration_month\"].value_counts()"
   ]
  },
  {
   "cell_type": "markdown",
   "metadata": {},
   "source": [
    "Since there is no month that is numbered 0, we need to replace the 0 values with a blank that will not be used in further calculations."
   ]
  },
  {
   "cell_type": "code",
   "execution_count": null,
   "metadata": {},
   "outputs": [],
   "source": [
    "# Replace the 0 value in the registration_month column with a blank\n",
    "\n",
    "autos.loc[autos [\"registration_month\"] == 0, \"registration_month\"] = np.nan"
   ]
  },
  {
   "cell_type": "code",
   "execution_count": null,
   "metadata": {},
   "outputs": [],
   "source": [
    "# Check whether the 0 values have been removed properly\n",
    "autos[\"registration_month\"].value_counts (normalized = True)"
   ]
  },
  {
   "cell_type": "code",
   "execution_count": null,
   "metadata": {},
   "outputs": [],
   "source": [
    "# Extract the date values from the date and hour values in the date_crawled column\n",
    "\n",
    "autos.date_crawled = autos.date_crawled[:10]"
   ]
  },
  {
   "cell_type": "code",
   "execution_count": null,
   "metadata": {},
   "outputs": [],
   "source": [
    "# Convert the pandas data from the data_crawled column to datetime data,\n",
    "# so that we can use the dates in the column for our calculations\n",
    "\n",
    "autos.date_crawled = pd.to_datetime(autos[\"date_crawled\"])"
   ]
  },
  {
   "cell_type": "code",
   "execution_count": null,
   "metadata": {},
   "outputs": [],
   "source": [
    "# Analyse the dates in the date_crawled column\n",
    "\n",
    "autos[\"date_crawled\"].describe ()"
   ]
  },
  {
   "cell_type": "code",
   "execution_count": null,
   "metadata": {},
   "outputs": [],
   "source": [
    "# Understanding the date range of the date_crawled column\n",
    "\n",
    "autos[\"date_crawled\"].value_counts (normalize = True, dropna = False).sort_values()"
   ]
  },
  {
   "cell_type": "markdown",
   "metadata": {},
   "source": [
    "The dates in the date_crawled column contain no errors. This is why the data in this column will not be filtered.\n",
    "Furthermore, the above distribution clearly shows that most adds were \n",
    "created on April the 3th. However, there seems to be no obvious linear regression of date posts created."
   ]
  },
  {
   "cell_type": "code",
   "execution_count": null,
   "metadata": {},
   "outputs": [],
   "source": [
    "# Filter the last_seen column data by selecting only the first ten characters that represent the date\n",
    "\n",
    "autos[\"last_seen\"] = autos.last_seen.str[:10]"
   ]
  },
  {
   "cell_type": "code",
   "execution_count": null,
   "metadata": {},
   "outputs": [],
   "source": [
    "# Convert the pandas data from the data_crawled column to last_seen data,\n",
    "# so that we can use the dates in the column for our calculations\n",
    "\n",
    "autos.last_seen = pd.to_datetime(autos[\"last_seen\"])"
   ]
  },
  {
   "cell_type": "code",
   "execution_count": null,
   "metadata": {},
   "outputs": [],
   "source": [
    "# Analyse the dates in the last_seen column\n",
    "\n",
    "autos[\"last_seen\"].describe ()"
   ]
  },
  {
   "cell_type": "code",
   "execution_count": null,
   "metadata": {},
   "outputs": [],
   "source": [
    "# Understanding the date range of the last_seen column\n",
    "\n",
    "autos[\"last_seen\"].value_counts ()"
   ]
  },
  {
   "cell_type": "code",
   "execution_count": null,
   "metadata": {},
   "outputs": [],
   "source": [
    "# Now, let's analyse the distribution of the dates in the last_seen column\n",
    "\n",
    "autos[\"last_seen\"].value_counts(normalize = True, dropna= False).sort_values()"
   ]
  },
  {
   "cell_type": "markdown",
   "metadata": {},
   "source": [
    "The dates in the date_crawled column contain no errors. This is why the data in this column will not be filtered.\n",
    "Furthermore, the above distribution clearly shows that most adds were \n",
    "created on April the 6th. However, there seems to be no obvious linear regression of date posts created. However, there is a small, though interesting pattern to be found in the highest rate of last seen posts, that accumulates around the 5th until the 7th of April."
   ]
  },
  {
   "cell_type": "code",
   "execution_count": null,
   "metadata": {},
   "outputs": [],
   "source": [
    "# Filter the ad_created column data by selecting only the first ten characters that represent the date\n",
    "\n",
    "autos.ad_created = autos.ad_created.str[:10]"
   ]
  },
  {
   "cell_type": "code",
   "execution_count": null,
   "metadata": {},
   "outputs": [],
   "source": [
    "# Convert the pandas data from the ad_created column to ad_created dates,\n",
    "# so that we can use the dates in the column for our calculations\n",
    "\n",
    "autos.ad_created = pd.to_datetime(autos[\"ad_created\"])"
   ]
  },
  {
   "cell_type": "code",
   "execution_count": null,
   "metadata": {},
   "outputs": [],
   "source": [
    "# Analyse the dates in the ad_created column\n",
    "\n",
    "autos[\"ad_created\"].describe ()"
   ]
  },
  {
   "cell_type": "code",
   "execution_count": null,
   "metadata": {},
   "outputs": [],
   "source": [
    "# Understanding the date range of the ad_created column\n",
    "\n",
    "autos[\"ad_created\"].value_counts ()"
   ]
  },
  {
   "cell_type": "code",
   "execution_count": null,
   "metadata": {},
   "outputs": [],
   "source": [
    "# Now, let's analyse the distribution of the dates in the ad_created column\n",
    "\n",
    "autos[\"ad_created\"].value_counts(normalize = True, dropna= False).sort_values()"
   ]
  },
  {
   "cell_type": "code",
   "execution_count": null,
   "metadata": {},
   "outputs": [],
   "source": [
    "autos[\"brand\"].value_counts(normalize = True)"
   ]
  },
  {
   "cell_type": "markdown",
   "metadata": {},
   "source": [
    "The above cell shows that the top 15 brands of the cars cars that are mostly being offered on this German ebay website, in the time period of March and April 2016, are (in assending order): \n",
    "\n",
    "Volkswagen\n",
    "Opel\n",
    "BMW\n",
    "Mercedes-Benz\n",
    "Audi\n",
    "Ford\n",
    "Renault\n",
    "Peugeot\n",
    "Fiat\n",
    "Seat \n",
    "Skoda\n",
    "Mazda \n",
    "Nissan\n",
    "Citroen \n",
    "Smart"
   ]
  },
  {
   "cell_type": "code",
   "execution_count": null,
   "metadata": {},
   "outputs": [],
   "source": [
    "# Select the fifteen most offered car brands and put them in a seperate list\n",
    "\n",
    "first_fifteen = auto_brands_ascending[:16]\n",
    "print (first_fifteen)"
   ]
  },
  {
   "cell_type": "code",
   "execution_count": null,
   "metadata": {},
   "outputs": [],
   "source": [
    "# Make a seperate list in which the mean price is calculated\n",
    "\n",
    "mean_price = autos[\"price\"].mean"
   ]
  }
 ],
 "metadata": {
  "kernelspec": {
   "display_name": "Python 3",
   "language": "python",
   "name": "python3"
  },
  "language_info": {
   "codemirror_mode": {
    "name": "ipython",
    "version": 3
   },
   "file_extension": ".py",
   "mimetype": "text/x-python",
   "name": "python",
   "nbconvert_exporter": "python",
   "pygments_lexer": "ipython3",
   "version": "3.7.6"
  }
 },
 "nbformat": 4,
 "nbformat_minor": 4
}
